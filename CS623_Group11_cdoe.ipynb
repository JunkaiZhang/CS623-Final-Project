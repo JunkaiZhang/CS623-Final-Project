{
 "cells": [
  {
   "cell_type": "code",
   "execution_count": 1,
   "id": "7b22fc3a",
   "metadata": {},
   "outputs": [
    {
     "name": "stdout",
     "output_type": "stream",
     "text": [
      "Collecting psycopg2-binary\n",
      "  Downloading psycopg2_binary-2.9.9-cp39-cp39-macosx_10_9_x86_64.whl (2.8 MB)\n",
      "\u001b[2K     \u001b[90m━━━━━━━━━━━━━━━━━━━━━━━━━━━━━━━━━━━━━━━━\u001b[0m \u001b[32m2.8/2.8 MB\u001b[0m \u001b[31m10.9 MB/s\u001b[0m eta \u001b[36m0:00:00\u001b[0ma \u001b[36m0:00:01\u001b[0m\n",
      "\u001b[?25hInstalling collected packages: psycopg2-binary\n",
      "Successfully installed psycopg2-binary-2.9.9\n",
      "\n",
      "\u001b[1m[\u001b[0m\u001b[34;49mnotice\u001b[0m\u001b[1;39;49m]\u001b[0m\u001b[39;49m A new release of pip available: \u001b[0m\u001b[31;49m22.3.1\u001b[0m\u001b[39;49m -> \u001b[0m\u001b[32;49m24.0\u001b[0m\n",
      "\u001b[1m[\u001b[0m\u001b[34;49mnotice\u001b[0m\u001b[1;39;49m]\u001b[0m\u001b[39;49m To update, run: \u001b[0m\u001b[32;49mpip install --upgrade pip\u001b[0m\n",
      "Note: you may need to restart the kernel to use updated packages.\n"
     ]
    }
   ],
   "source": [
    "#pip install psycopg2-binary"
   ]
  },
  {
   "cell_type": "code",
   "execution_count": 2,
   "id": "c9dd80a8",
   "metadata": {},
   "outputs": [
    {
     "name": "stdout",
     "output_type": "stream",
     "text": [
      "Requirement already satisfied: pip in ./opt/anaconda3/lib/python3.9/site-packages (22.3.1)\n",
      "Collecting pip\n",
      "  Downloading pip-24.0-py3-none-any.whl (2.1 MB)\n",
      "\u001b[2K     \u001b[90m━━━━━━━━━━━━━━━━━━━━━━━━━━━━━━━━━━━━━━━━\u001b[0m \u001b[32m2.1/2.1 MB\u001b[0m \u001b[31m4.9 MB/s\u001b[0m eta \u001b[36m0:00:00\u001b[0m00:01\u001b[0m00:01\u001b[0m\n",
      "\u001b[?25hInstalling collected packages: pip\n",
      "  Attempting uninstall: pip\n",
      "    Found existing installation: pip 22.3.1\n",
      "    Uninstalling pip-22.3.1:\n",
      "      Successfully uninstalled pip-22.3.1\n",
      "Successfully installed pip-24.0\n",
      "Note: you may need to restart the kernel to use updated packages.\n"
     ]
    }
   ],
   "source": [
    "#pip install --upgrade pip"
   ]
  },
  {
   "cell_type": "code",
   "execution_count": 1,
   "id": "716b4ee4",
   "metadata": {},
   "outputs": [
    {
     "name": "stdout",
     "output_type": "stream",
     "text": [
      "Connected to the database successfully.\n"
     ]
    }
   ],
   "source": [
    "import psycopg2\n",
    "\n",
    "try:\n",
    "    # Connect to your PostgreSQL database\n",
    "    conn = psycopg2.connect(\n",
    "        dbname=\"class\",\n",
    "        user=\"Junkai\",\n",
    "        password=\"123123\",\n",
    "        host=\"localhost\",  \n",
    "        port=\"5432\"\n",
    "    )\n",
    "    # Create a cursor object\n",
    "    cur = conn.cursor()\n",
    "    print(\"Connected to the database successfully.\")\n",
    "except Exception as e:\n",
    "    print(f\"An error occurred while connecting to the database: {e}\")"
   ]
  },
  {
   "cell_type": "code",
   "execution_count": 2,
   "id": "d0c5d05d",
   "metadata": {},
   "outputs": [
    {
     "name": "stdout",
     "output_type": "stream",
     "text": [
      "Tables in the database:\n",
      "product\n",
      "stock\n",
      "depot\n"
     ]
    }
   ],
   "source": [
    "#show tables\n",
    "try:\n",
    "    cur.execute(\"SELECT table_name FROM information_schema.tables WHERE table_schema = 'public';\")\n",
    "    tables = cur.fetchall()\n",
    "\n",
    "    print(\"Tables in the database:\")\n",
    "    for table in tables:\n",
    "        print(table[0])\n",
    "\n",
    "except Exception as e:\n",
    "    print(\"Error:\", e)"
   ]
  },
  {
   "cell_type": "code",
   "execution_count": 4,
   "id": "07f22de1",
   "metadata": {},
   "outputs": [
    {
     "name": "stdout",
     "output_type": "stream",
     "text": [
      "Delete Completed: Product p1 deleted from Product and Stock tables.\n"
     ]
    }
   ],
   "source": [
    "try:\n",
    "    # 1. Delete product p1 from product and stock table.-Junkai\n",
    "    # Delete product p1 from stock table\n",
    "    cur.execute(\"DELETE FROM stock WHERE prod = 'p1';\")\n",
    "\n",
    "    # Delete product p1 from product table\n",
    "    cur.execute(\"DELETE FROM product WHERE prod = 'p1';\")\n",
    "\n",
    "    conn.commit()\n",
    "    print(\"Delete Completed: Product p1 deleted from Product and Stock tables.\")\n",
    "except Exception as e:\n",
    "    conn.rollback()\n",
    "    print(f\"Transaction 1 failed: {e}\")\n",
    "    \n",
    "\n"
   ]
  },
  {
   "cell_type": "markdown",
   "id": "0439d449",
   "metadata": {},
   "source": [
    "### Using ON DELETE CASCADE For 1"
   ]
  },
  {
   "cell_type": "code",
   "execution_count": null,
   "id": "2cda842f",
   "metadata": {},
   "outputs": [],
   "source": [
    "''' # On postgreSQL\n",
    "-- Drop existing foreign key constraints if they exist\n",
    "ALTER TABLE stock DROP CONSTRAINT IF EXISTS stock_prodid_fkey;\n",
    "ALTER TABLE stock DROP CONSTRAINT IF EXISTS stock_depid_fkey;\n",
    "\n",
    "-- Add new foreign key constraints with ON DELETE CASCADE\n",
    "ALTER TABLE stock\n",
    "ADD CONSTRAINT stock_prodid_fkey FOREIGN KEY (prodid) REFERENCES product(prodid) ON DELETE CASCADE,\n",
    "ADD CONSTRAINT stock_depid_fkey FOREIGN KEY (depid) REFERENCES depot(depid) ON DELETE CASCADE;\n",
    "'''\n",
    "try:\n",
    "     # Transaction 1: Delete product p1 from Product table (cascade to Stock table)\n",
    "    cur.execute(\"DELETE FROM product WHERE prodid = 'p1';\")\n",
    "    conn.commit()\n",
    "    print(\"Delete Completed: Product p1 deleted from Product and Stock tables.\")\n",
    "\n",
    "except Exception as e:\n",
    "    conn.rollback()\n",
    "    print(f\"Transaction 1 failed: {e}\")\n",
    "finally:\n",
    "    cur.close()\n",
    "    conn.close()"
   ]
  },
  {
   "cell_type": "code",
   "execution_count": 5,
   "id": "2f698e5b",
   "metadata": {},
   "outputs": [
    {
     "name": "stdout",
     "output_type": "stream",
     "text": [
      "Deletion successful: Depot d1 deleted from Depot and Stock tables.\n"
     ]
    }
   ],
   "source": [
    "try:\n",
    "    # 2. The depot d1 is deleted from Depot and Stock.-Junkai\n",
    "    # Delete d1 from the Stock table\n",
    "    cur.execute(\"DELETE FROM stock WHERE dep = 'd1';\")\n",
    "\n",
    "    # Delete d1 from the Depot table\n",
    "    cur.execute(\"DELETE FROM depot WHERE dep = 'd1';\")\n",
    "\n",
    "    conn.commit()\n",
    "\n",
    "    print(\"Deletion successful: Depot d1 deleted from Depot and Stock tables.\")\n",
    "except Exception as e:\n",
    "    conn.rollback()\n",
    "    print(f\"Transaction 2 failed: {e}\")\n",
    "finally\n",
    "    cur.close()\n",
    "    conn.close()\n"
   ]
  },
  {
   "cell_type": "markdown",
   "id": "35f84ad6",
   "metadata": {},
   "source": [
    "### Using ON DELETE CASCADE for 2"
   ]
  },
  {
   "cell_type": "code",
   "execution_count": null,
   "id": "90f73ee7",
   "metadata": {},
   "outputs": [],
   "source": [
    "    # Transaction 2: Delete depot d1 from Depot table (cascade to Stock table)\n",
    "    cur.execute(\"DELETE FROM depot WHERE depid = 'd1';\")\n",
    "    conn.commit()\n",
    "    print(\"Deletion successful: Depot d1 deleted from Depot and Stock tables.\")\n",
    "\n",
    "except Exception as e:\n",
    "    conn.rollback()\n",
    "    print(f\"Transaction 2 failed: {e}\")\n",
    "finally:\n",
    "    cur.close()\n",
    "    conn.close()"
   ]
  },
  {
   "cell_type": "code",
   "execution_count": null,
   "id": "38f5f5d8",
   "metadata": {},
   "outputs": [],
   "source": [
    "# 3.The product p1 changes its name to pp1 in Product and Stock-Sudharsan\n",
    "try:\n",
    "    # Establish a connection to the PostgreSQL database\n",
    "    connection = psycopg2.connect(user=\"postgres\",\n",
    "                                  password=\"123456789\",\n",
    "                                  host=\"localhost\",\n",
    "                                  port=\"5434\",\n",
    "                                  database=\"postgres\")\n",
    "\n",
    "    cursor = connection.cursor()\n",
    "\n",
    "    # Specify the old and new product IDs\n",
    "    old_prod_id = 'p1'\n",
    "    new_prod_id = 'pp1'\n",
    "\n",
    "    # Call the function to update the product ID\n",
    "    update_product_id(connection, cursor, old_prod_id, new_prod_id)\n",
    "\n",
    "except (Exception, Error) as error:\n",
    "    print(\"Error while connecting to PostgreSQL:\", error)\n",
    "\n",
    "finally:\n",
    "    # Close the database connection\n",
    "    if connection:\n",
    "        connection.close()\n",
    "        print(\"PostgreSQL connection is closed.\")\n",
    "import psycopg2\n",
    "from psycopg2 import Error"
   ]
  },
  {
   "cell_type": "code",
   "execution_count": null,
   "id": "2bdf5d3f",
   "metadata": {},
   "outputs": [],
   "source": [
    "# 4. The depot d1 changes its name to dd1 in Depot and Stock-Sudharsan\n",
    "try:\n",
    "    # Establish a connection to the PostgreSQL database\n",
    "    connection = psycopg2.connect(user=\"postgres\",\n",
    "                                  password=\"123456789\",\n",
    "                                  host=\"localhost\",\n",
    "                                  port=\"5434\",\n",
    "                                  database=\"postgres\")\n",
    "\n",
    "    cursor = connection.cursor()\n",
    "\n",
    "    # Specify the old and new depot names\n",
    "    old_name = 'd1'\n",
    "    new_name = 'dd1'\n",
    "\n",
    "    # Call the function to update the depot name\n",
    "    update_depot_name(connection, cursor, old_name, new_name)\n",
    "\n",
    "except (Exception, Error) as error:\n",
    "    print(\"Error while connecting to PostgreSQL:\", error)\n",
    "\n",
    "finally:\n",
    "    # Close the database connection\n",
    "    if connection:\n",
    "        connection.close()\n",
    "        print(\"PostgreSQL connection is closed.\")"
   ]
  },
  {
   "cell_type": "code",
   "execution_count": null,
   "id": "9fa088fb",
   "metadata": {},
   "outputs": [],
   "source": [
    "# 5. We add a product (p100, cd, 5) in Product and (p100, d2, 50) in Stock-Adhikari\n",
    "try:\n",
    "    cur=con.cursor()\n",
    "    cur,execute(\"insert into product values('p100','cd',5)\"))\n",
    "except (Exception,psycopg2.DatabaseError) as err:\n",
    "    print(err)\n",
    "    print(\"Transaction could not be completed so database will be rolled back\")\n",
    "    con.rollback()\n",
    "finally: \n",
    "    if con:\n",
    "        con.commit()\n",
    "        cur.close\n",
    "        con.close\n",
    "        print(\"PostgreSQL conneciton is now closed\")\n",
    "        print(\"End\")\n",
    "        \n",
    "try:\n",
    "    cur=con.cursor()\n",
    "    cur,execute(\"insert into stock values('p100','d2',50)\"))\n",
    "except (Exception,psycopg2.DatabaseError) as err:\n",
    "    print(err)\n",
    "    print(\"Transaction could not be completed so database will be rolled back\")\n",
    "    con.rollback()\n",
    "finally: \n",
    "    if con:\n",
    "        con.commit()\n",
    "        cur.close\n",
    "        con.close\n",
    "        print(\"PostgreSQL conneciton is now closed\")\n",
    "        print(\"End\")"
   ]
  },
  {
   "cell_type": "code",
   "execution_count": null,
   "id": "7e024a72",
   "metadata": {},
   "outputs": [],
   "source": [
    "# 6. We add a depot (d100, Chicago, 100) in Depot and (p1, d100, 100) in Stock - Adhikari\n",
    "try:\n",
    "    cur=con.cursor()\n",
    "    cur,execute(\"insert into depot values('d100','Chicago',100)\"))\n",
    "except (Exception,psycopg2.DatabaseError) as err:\n",
    "    print(err)\n",
    "    print(\"Transaction could not be completed so database will be rolled back\")\n",
    "    con.rollback()\n",
    "finally: \n",
    "    if con:\n",
    "        con.commit()\n",
    "        cur.close\n",
    "        con.close\n",
    "        print(\"PostgreSQL conneciton is now closed\")\n",
    "        print(\"End\")\n",
    "        \n",
    "try:\n",
    "    cur=con.cursor()\n",
    "    cur,execute(\"insert into stock values('p1','d100',100)\"))\n",
    "except (Exception,psycopg2.DatabaseError) as err:\n",
    "    print(err)\n",
    "    print(\"Transaction could not be completed so database will be rolled back\")\n",
    "    con.rollback()\n",
    "finally: \n",
    "    if con:\n",
    "        con.commit()\n",
    "        cur.close\n",
    "        con.close\n",
    "        print(\"PostgreSQL conneciton is now closed\")\n",
    "        print(\"End\")"
   ]
  }
 ],
 "metadata": {
  "kernelspec": {
   "display_name": "Python 3 (ipykernel)",
   "language": "python",
   "name": "python3"
  },
  "language_info": {
   "codemirror_mode": {
    "name": "ipython",
    "version": 3
   },
   "file_extension": ".py",
   "mimetype": "text/x-python",
   "name": "python",
   "nbconvert_exporter": "python",
   "pygments_lexer": "ipython3",
   "version": "3.9.16"
  }
 },
 "nbformat": 4,
 "nbformat_minor": 5
}
